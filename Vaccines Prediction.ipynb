{
 "cells": [
  {
   "cell_type": "code",
   "execution_count": 1,
   "id": "a897531c-e545-47de-b4c2-c4c182b38394",
   "metadata": {},
   "outputs": [],
   "source": [
    "import pandas as pd \n",
    "import numpy as np\n",
    "from sklearn.preprocessing import OneHotEncoder, StandardScaler\n",
    "from sklearn.impute import SimpleImputer\n",
    "from sklearn.pipeline import Pipeline\n",
    "from sklearn.compose import ColumnTransformer"
   ]
  },
  {
   "cell_type": "code",
   "execution_count": 2,
   "id": "50ccba30-be35-4571-be99-f9824b7764d2",
   "metadata": {},
   "outputs": [
    {
     "name": "stdout",
     "output_type": "stream",
     "text": [
      "True\n",
      "(26707, 35) (26708, 35) (26707, 2)\n"
     ]
    }
   ],
   "source": [
    "# Reading in the CSV files for training and testing\n",
    "train_data = pd.read_csv('training_set_features.csv')\n",
    "test_data = pd.read_csv('test_set_features.csv')\n",
    "train_labels_data = pd.read_csv('training_set_labels.csv')\n",
    "\n",
    "# Ensure that respondent_id is the index to maintain consistency\n",
    "train_data.set_index('respondent_id', inplace=True)\n",
    "test_data.set_index('respondent_id', inplace=True)\n",
    "train_labels_data.set_index('respondent_id', inplace=True)\n",
    "\n",
    "# Check the indices and shapes\n",
    "print(train_data.index.equals(train_labels_data.index))  # Should be True\n",
    "print(train_data.shape, test_data.shape, train_labels_data.shape)\n"
   ]
  },
  {
   "cell_type": "code",
   "execution_count": 3,
   "id": "1e2f316d-f72b-4996-aca4-8f0f3d176acd",
   "metadata": {},
   "outputs": [
    {
     "name": "stdout",
     "output_type": "stream",
     "text": [
      "(26707, 105) (26708, 105)\n",
      "(26707, 2)\n"
     ]
    }
   ],
   "source": [
    "# Defining categorical and numerical columns\n",
    "categorical_cols = [\n",
    "    'age_group', 'education', 'race', 'sex', 'income_poverty', 'marital_status',\n",
    "    'rent_or_own', 'employment_status', 'hhs_geo_region', 'census_msa',\n",
    "    'employment_industry', 'employment_occupation'\n",
    "]\n",
    "\n",
    "numerical_cols = [\n",
    "    'xyz_concern', 'xyz_knowledge', 'behavioral_antiviral_meds', 'behavioral_avoidance','behavioral_face_mask', \n",
    "    'behavioral_wash_hands', 'behavioral_large_gatherings','behavioral_outside_home', 'behavioral_touch_face', \n",
    "    'doctor_recc_xyz','doctor_recc_seasonal', 'chronic_med_condition', 'child_under_6_months',\n",
    "    'health_worker', 'health_insurance', 'opinion_xyz_vacc_effective', 'opinion_xyz_risk',\n",
    "    'opinion_xyz_sick_from_vacc', 'opinion_seas_vacc_effective', 'opinion_seas_risk',\n",
    "    'opinion_seas_sick_from_vacc', 'household_adults', 'household_children'\n",
    "]\n",
    "\n",
    "# Preprocessing pipelines for categorical and numerical features\n",
    "\n",
    "categorical_pipeline = Pipeline(steps=[\n",
    "    ('imputer', SimpleImputer(strategy='most_frequent')),  # Impute missing values with the most frequent value for categorical features\n",
    "    ('onehot', OneHotEncoder(handle_unknown='ignore', sparse_output=False))  # One-hot encode categorical features\n",
    "])\n",
    "\n",
    "numerical_pipeline = Pipeline(steps=[\n",
    "    ('imputer', SimpleImputer(strategy='mean')),  # Impute missing values with mean for numerical features\n",
    "    ('scaler', StandardScaler())  # Standardize numerical features\n",
    "])\n",
    "\n",
    "# Combine preprocessing steps\n",
    "preprocessor = ColumnTransformer(\n",
    "    transformers=[\n",
    "        ('num', numerical_pipeline, numerical_cols),\n",
    "        ('cat', categorical_pipeline, categorical_cols)\n",
    "    ],\n",
    "    remainder='passthrough'  # Ensure that no columns are dropped\n",
    ")\n",
    "\n",
    "# Separate features and target variables for training set\n",
    "X_train = train_data\n",
    "y_train = train_labels_data\n",
    "X_test = test_data\n",
    "\n",
    "# Preprocess the training and testing data\n",
    "X_train_preprocessed = preprocessor.fit_transform(X_train)\n",
    "X_test_preprocessed = preprocessor.transform(X_test)\n",
    "\n",
    "# Ensure that no samples are dropped\n",
    "print(X_train_preprocessed.shape, X_test_preprocessed.shape)\n",
    "print(y_train.shape)\n"
   ]
  },
  {
   "cell_type": "code",
   "execution_count": 6,
   "id": "5dde5e3f-9793-4cde-9315-e5ad9e57100e",
   "metadata": {},
   "outputs": [
    {
     "name": "stdout",
     "output_type": "stream",
     "text": [
      "(26707, 105) (26707, 2)\n",
      "(21365, 105) (5342, 105) (21365, 2) (5342, 2)\n",
      "ROC AUC for XYZ Vaccine: 0.8639554916841052\n",
      "ROC AUC for Seasonal Vaccine: 0.8570449153459695\n",
      "Mean ROC AUC: 0.8605002035150373\n"
     ]
    }
   ],
   "source": [
    "# Import necessary libraries\n",
    "from sklearn.multioutput import MultiOutputClassifier\n",
    "from sklearn.ensemble import RandomForestClassifier\n",
    "from sklearn.model_selection import train_test_split\n",
    "from sklearn.metrics import roc_auc_score\n",
    "import numpy as np\n",
    "\n",
    "# Checking the shape of the preprocessed training data and labels before splitting\n",
    "print(X_train_preprocessed.shape, y_train.shape)\n",
    "\n",
    "# Splitting the data into training and validation sets for model training\n",
    "X_train_split, X_val_split, y_train_split, y_val_split = train_test_split(X_train_preprocessed, y_train, test_size=0.2, random_state=42)\n",
    "\n",
    "# Ensure consistent shapes after split\n",
    "print(X_train_split.shape, X_val_split.shape, y_train_split.shape, y_val_split.shape)\n",
    "\n",
    "#Creating a Random Forest classifier model with 100 estimators\n",
    "rf_model = RandomForestClassifier(n_estimators=100, random_state=42)\n",
    "\n",
    "# Wrap the model with MultiOutputClassifier for multi-target prediction\n",
    "multi_target_model = MultiOutputClassifier(rf_model, n_jobs=-1)\n",
    "\n",
    "# Train the model\n",
    "multi_target_model.fit(X_train_split, y_train_split)\n",
    "\n",
    "# Generating predicted probabilities for the validation set\n",
    "y_val_pred_proba = multi_target_model.predict_proba(X_val_split)\n",
    "\n",
    "# Convert the list of arrays into a 2D array for further analysis\n",
    "y_val_pred_proba = np.array(y_val_pred_proba)[:, :, 1].T\n",
    "\n",
    "# Calculating ROC AUC scores for each target variable\n",
    "roc_auc_xyz = roc_auc_score(y_val_split['xyz_vaccine'], y_val_pred_proba[:, 0])\n",
    "roc_auc_seasonal = roc_auc_score(y_val_split['seasonal_vaccine'], y_val_pred_proba[:, 1])\n",
    "mean_roc_auc = (roc_auc_xyz + roc_auc_seasonal) / 2\n",
    "\n",
    "print(f'ROC AUC for XYZ Vaccine: {roc_auc_xyz}')\n",
    "print(f'ROC AUC for Seasonal Vaccine: {roc_auc_seasonal}')\n",
    "print(f'Mean ROC AUC: {mean_roc_auc}')\n"
   ]
  },
  {
   "cell_type": "code",
   "execution_count": 7,
   "id": "3a377d25-3e5e-4834-812e-d060988e5677",
   "metadata": {},
   "outputs": [
    {
     "name": "stdout",
     "output_type": "stream",
     "text": [
      "Best parameters: {'estimator__max_depth': None, 'estimator__min_samples_leaf': 2, 'estimator__min_samples_split': 5, 'estimator__n_estimators': 100}\n",
      "Best ROC AUC score from GridSearchCV: 0.8556272517047927\n"
     ]
    }
   ],
   "source": [
    "from sklearn.multioutput import MultiOutputClassifier\n",
    "from sklearn.ensemble import RandomForestClassifier\n",
    "from sklearn.model_selection import GridSearchCV\n",
    "from sklearn.metrics import roc_auc_score\n",
    "import numpy as np\n",
    "\n",
    "# Initialize the base model with limited n_jobs\n",
    "rf_model = RandomForestClassifier(n_estimators=100, random_state=42, n_jobs=2)\n",
    "\n",
    "# Wrap the model with MultiOutputClassifier\n",
    "multi_target_model = MultiOutputClassifier(rf_model, n_jobs=2)\n",
    "\n",
    "# Define the parameter grid\n",
    "param_grid = {\n",
    "    'estimator__n_estimators': [50, 100],\n",
    "    'estimator__max_depth': [None, 10],\n",
    "    'estimator__min_samples_split': [2, 5],\n",
    "    'estimator__min_samples_leaf': [1, 2]\n",
    "}\n",
    "\n",
    "# Initialize GridSearchCV with limited n_jobs\n",
    "grid_search = GridSearchCV(multi_target_model, param_grid, cv=3, scoring='roc_auc', n_jobs=2)\n",
    "\n",
    "# Fit GridSearchCV\n",
    "grid_search.fit(X_train_split, y_train_split)\n",
    "\n",
    "# Get the best parameters and the best score\n",
    "best_params = grid_search.best_params_\n",
    "best_score = grid_search.best_score_\n",
    "\n",
    "print(f'Best parameters: {best_params}')\n",
    "print(f'Best ROC AUC score from GridSearchCV: {best_score}')"
   ]
  },
  {
   "cell_type": "code",
   "execution_count": 9,
   "id": "c7d001e6-3acc-4e61-9e88-87262a2fe583",
   "metadata": {},
   "outputs": [
    {
     "name": "stdout",
     "output_type": "stream",
     "text": [
      "   respondent_id  xyz_vaccine  seasonal_vaccine\n",
      "0          26707     0.199277          0.394498\n",
      "1          26708     0.040405          0.053210\n",
      "2          26709     0.270790          0.707270\n",
      "3          26710     0.545662          0.893416\n",
      "4          26711     0.258517          0.505339\n"
     ]
    }
   ],
   "source": [
    "\n",
    "# Make predictions with the best model\n",
    "best_model = grid_search.best_estimator_\n",
    "y_test_pred_proba = best_model.predict_proba(X_test_preprocessed)\n",
    "\n",
    "# Convert the list of arrays into a 2D array\n",
    "y_test_pred_proba = np.array(y_test_pred_proba)[:, :, 1].T\n",
    "\n",
    "# Prepare the submission file\n",
    "submission = pd.DataFrame({\n",
    "    'respondent_id': test_data.index,\n",
    "    'xyz_vaccine': y_test_pred_proba[:, 0],\n",
    "    'seasonal_vaccine': y_test_pred_proba[:, 1]\n",
    "})\n",
    "\n",
    "submission.to_csv('submission.csv', index=False)\n",
    "print(submission.head())\n"
   ]
  },
  {
   "cell_type": "code",
   "execution_count": null,
   "id": "451be45d-8967-40f4-a818-b903c34f74c4",
   "metadata": {},
   "outputs": [],
   "source": []
  }
 ],
 "metadata": {
  "kernelspec": {
   "display_name": "Python 3 (ipykernel)",
   "language": "python",
   "name": "python3"
  },
  "language_info": {
   "codemirror_mode": {
    "name": "ipython",
    "version": 3
   },
   "file_extension": ".py",
   "mimetype": "text/x-python",
   "name": "python",
   "nbconvert_exporter": "python",
   "pygments_lexer": "ipython3",
   "version": "3.11.7"
  }
 },
 "nbformat": 4,
 "nbformat_minor": 5
}
